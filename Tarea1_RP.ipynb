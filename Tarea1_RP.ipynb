{
  "cells": [
    {
      "cell_type": "markdown",
      "metadata": {
        "id": "TM234PddiDQQ"
      },
      "source": [
        "# TAREA 1: Aprendizaje supervisado. Diseño y evaluación de clasificadores.\n",
        "\n"
      ]
    },
    {
      "cell_type": "markdown",
      "metadata": {
        "id": "GHSJ4npoipQ2"
      },
      "source": [
        "### Problema 1.\n",
        "### El trastorno del espectro autista es una afección relacionada con el desarrollo del cerebro que afectala manera en la que una persona percibe y socializa con otras personas, lo que causa problemas en la interacción social y la comunicación. El trastorno también comprende patrones de conducta restringidos y repetitivos. El término «espectro» en el trastorno del espectro autista se refiere a un amplio abanico de síntomas y gravedad."
      ]
    },
    {
      "cell_type": "markdown",
      "metadata": {
        "id": "6poQgEjriyeO"
      },
      "source": [
        "#### 1.Describa el dataset, identificando las características y la variable de clasificación, que tipode datos es cada una, y que valores toma la variable de clasificación. ¿El dataset presenta datos faltantes?"
      ]
    },
    {
      "cell_type": "markdown",
      "metadata": {
        "id": "U2_sFsEfjb58"
      },
      "source": [
        "1. Descripción\n",
        "2. Características\n",
        "3. La variable objetivo o de clasificación es: Class/ASD Traits\n",
        "    - Valor YES: el niño presenta rasgos del espectro autista.\n",
        "    - Valor NO: el niño no presenta rasgos.\n",
        "4. Que tipo de dato es cada una\n",
        "5. Valores que toma la variable de clasificación\n",
        "6. Datos faltantes: Si\n",
        "\n",
        "\n"
      ]
    },
    {
      "cell_type": "markdown",
      "metadata": {
        "id": "6qrgrsx1ndaw"
      },
      "source": [
        "Para el punto 6 , se importo pandas y scipy para poder ver si existian datos faltantes en el dataset."
      ]
    },
    {
      "cell_type": "code",
      "execution_count": null,
      "metadata": {},
      "outputs": [],
      "source": [
        "pip install scipy pandas"
      ]
    },
    {
      "cell_type": "code",
      "execution_count": null,
      "metadata": {
        "colab": {
          "base_uri": "https://localhost:8080/",
          "height": 512
        },
        "id": "oQMnwJIonbuI",
        "outputId": "378fbb2d-d670-41ce-b7c2-e1b859374cc9"
      },
      "outputs": [],
      "source": [
        "import pandas as pd\n",
        "from scipy.io import arff\n",
        "\n",
        "data, meta = arff.loadarff(\"Autism-Child-Data.arff\")\n",
        "df = pd.DataFrame(data)\n",
        "\n",
        "# Contar valores faltantes como '?'\n",
        "df.replace(b'?', pd.NA, inplace=True)\n",
        "print(df.isna().sum())"
      ]
    },
    {
      "cell_type": "markdown",
      "metadata": {
        "id": "l3qkKeFAjhNT"
      },
      "source": [
        "#### 2.Para el clasificador que propone como solución modifique los parámetros que tiene disponibles en la implementación de sklearn. Construya una tabla como la que aparece a continuación y determine cuáles son los valores óptimos de los parámetros (pruebe al menos con 5 valores de cada parámetro). Tome uno de los parámetros y grafique su relación con la métrica de desempeño. Esta gráfica debe obtenerse tanto para los datos de entrenamiento, como los de evaluación. Interprete estas gráficas de acuerdo con el posible underfitting u overfitting del modelo."
      ]
    },
    {
      "cell_type": "code",
      "execution_count": null,
      "metadata": {
        "id": "J5nuKtVzjiA8"
      },
      "outputs": [],
      "source": []
    },
    {
      "cell_type": "markdown",
      "metadata": {
        "id": "F0fmEQhVjjs7"
      },
      "source": [
        "#### 3.Del clasificador que propone como solución del problema entregue la matriz de confusión, así como los valores de las métricas de recall y precision de cada clase. Interprete el valor de recall y precisión de cada clase. Obtenga las métricas de accuracy y accuracy promedio por clase, comente acerca de la relación entre estos valores.\n"
      ]
    },
    {
      "cell_type": "code",
      "execution_count": null,
      "metadata": {
        "id": "hhvDnvIKjkrt"
      },
      "outputs": [],
      "source": []
    },
    {
      "cell_type": "markdown",
      "metadata": {
        "id": "kdJ6FozwkMNh"
      },
      "source": [
        "#### 4.Ocupe alguno de los métodos vistos en clase para reducir la dimensión de las características del problema y evalúe su impacto en las soluciones obtenidas (compare las métricas de desempeño). Pruebe al menos con la mitad de las características y con dos características."
      ]
    },
    {
      "cell_type": "code",
      "execution_count": null,
      "metadata": {
        "id": "qRRCaLgjkQT7"
      },
      "outputs": [],
      "source": []
    },
    {
      "cell_type": "markdown",
      "metadata": {
        "id": "rHN93CtzkQ6R"
      },
      "source": [
        "#### 5.Ocupe algún método de balanceo de clases de ser necesario y evalúe su impacto en las soluciones obtenidas (compare las métricas de desempeño y la matriz de confusión).\n"
      ]
    },
    {
      "cell_type": "code",
      "execution_count": null,
      "metadata": {
        "id": "-aoiFXn0kS77"
      },
      "outputs": [],
      "source": []
    }
  ],
  "metadata": {
    "colab": {
      "collapsed_sections": [
        "l3qkKeFAjhNT",
        "F0fmEQhVjjs7",
        "kdJ6FozwkMNh",
        "rHN93CtzkQ6R"
      ],
      "provenance": []
    },
    "kernelspec": {
      "display_name": "Python 3",
      "name": "python3"
    },
    "language_info": {
      "codemirror_mode": {
        "name": "ipython",
        "version": 3
      },
      "file_extension": ".py",
      "mimetype": "text/x-python",
      "name": "python",
      "nbconvert_exporter": "python",
      "pygments_lexer": "ipython3",
      "version": "3.13.1"
    }
  },
  "nbformat": 4,
  "nbformat_minor": 0
}
